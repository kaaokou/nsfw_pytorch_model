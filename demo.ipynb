{
 "cells": [
  {
   "cell_type": "code",
   "execution_count": 1,
   "id": "d097c793-7049-407a-ac34-660550e7ac27",
   "metadata": {},
   "outputs": [],
   "source": [
    "import torch\n",
    "from PIL import Image\n",
    "from torchvision import transforms"
   ]
  },
  {
   "cell_type": "code",
   "execution_count": 2,
   "id": "0fc2c849-5a06-4bd9-92fa-6fcfffdcded9",
   "metadata": {},
   "outputs": [],
   "source": [
    "device = 'cpu'\n",
    "\n",
    "# 加载模型\n",
    "model = torch.load('./models/mobilenet_v3_large_nsfw_base_v1.pth')\n",
    "model.to(device);\n",
    "model.eval();"
   ]
  },
  {
   "cell_type": "code",
   "execution_count": 3,
   "id": "e77dcef9-8423-46c0-8901-d33a9753d1f9",
   "metadata": {},
   "outputs": [],
   "source": [
    "# 推理\n",
    "normalize = transforms.Normalize(mean=0.5, std=0.5)\n",
    "transform = transforms.Compose([\n",
    "                    transforms.Resize((224, 224)),\n",
    "                    #transforms.CenterCrop(299),\n",
    "                    #transforms.Grayscale(num_output_channels=3),\n",
    "                    transforms.ToTensor(),\n",
    "                    normalize,])\n",
    "\n",
    "img_path = './demo.jpg'\n",
    "input_img = transform(Image.open(img_path).convert('RGB'))\n",
    "pred = model(input_img.unsqueeze(0).to(device))"
   ]
  },
  {
   "cell_type": "code",
   "execution_count": 4,
   "id": "3dc23682-38af-43ff-b2e7-745e92ea52a7",
   "metadata": {},
   "outputs": [
    {
     "data": {
      "text/plain": [
       "tensor([[-4.1440, -5.1730,  9.7773,  3.2855, -4.3043]],\n",
       "       grad_fn=<AddmmBackward0>)"
      ]
     },
     "execution_count": 4,
     "metadata": {},
     "output_type": "execute_result"
    }
   ],
   "source": [
    "pred"
   ]
  },
  {
   "cell_type": "code",
   "execution_count": null,
   "id": "ef4f4a65-8d8c-4456-8e2b-4d2301dcc424",
   "metadata": {},
   "outputs": [],
   "source": []
  }
 ],
 "metadata": {
  "kernelspec": {
   "display_name": "Python 3 (ipykernel)",
   "language": "python",
   "name": "python3"
  },
  "language_info": {
   "codemirror_mode": {
    "name": "ipython",
    "version": 3
   },
   "file_extension": ".py",
   "mimetype": "text/x-python",
   "name": "python",
   "nbconvert_exporter": "python",
   "pygments_lexer": "ipython3",
   "version": "3.8.10"
  }
 },
 "nbformat": 4,
 "nbformat_minor": 5
}
